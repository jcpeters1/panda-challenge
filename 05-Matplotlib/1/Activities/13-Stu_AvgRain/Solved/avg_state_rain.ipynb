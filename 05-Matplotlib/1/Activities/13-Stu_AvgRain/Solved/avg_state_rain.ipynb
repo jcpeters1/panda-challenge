{
 "cells": [
  {
   "cell_type": "code",
   "execution_count": 1,
   "metadata": {},
   "outputs": [],
   "source": [
    "%matplotlib notebook"
   ]
  },
  {
   "cell_type": "code",
   "execution_count": 2,
   "metadata": {},
   "outputs": [],
   "source": [
    "# Dependencies\n",
    "import matplotlib.pyplot as plt\n",
    "import numpy as np\n",
    "import pandas as pd"
   ]
  },
  {
   "cell_type": "code",
   "execution_count": 3,
   "metadata": {},
   "outputs": [
    {
     "data": {
      "text/html": [
       "<div>\n",
       "<style scoped>\n",
       "    .dataframe tbody tr th:only-of-type {\n",
       "        vertical-align: middle;\n",
       "    }\n",
       "\n",
       "    .dataframe tbody tr th {\n",
       "        vertical-align: top;\n",
       "    }\n",
       "\n",
       "    .dataframe thead th {\n",
       "        text-align: right;\n",
       "    }\n",
       "</style>\n",
       "<table border=\"1\" class=\"dataframe\">\n",
       "  <thead>\n",
       "    <tr style=\"text-align: right;\">\n",
       "      <th></th>\n",
       "      <th>State</th>\n",
       "      <th>Inches</th>\n",
       "      <th>Milli­metres</th>\n",
       "      <th>Rank</th>\n",
       "    </tr>\n",
       "  </thead>\n",
       "  <tbody>\n",
       "    <tr>\n",
       "      <td>0</td>\n",
       "      <td>Alabama</td>\n",
       "      <td>58.3</td>\n",
       "      <td>1480</td>\n",
       "      <td>4</td>\n",
       "    </tr>\n",
       "    <tr>\n",
       "      <td>1</td>\n",
       "      <td>Alaska</td>\n",
       "      <td>22.5</td>\n",
       "      <td>572</td>\n",
       "      <td>39</td>\n",
       "    </tr>\n",
       "    <tr>\n",
       "      <td>2</td>\n",
       "      <td>Arizona</td>\n",
       "      <td>13.6</td>\n",
       "      <td>345</td>\n",
       "      <td>47</td>\n",
       "    </tr>\n",
       "    <tr>\n",
       "      <td>3</td>\n",
       "      <td>Arkansas</td>\n",
       "      <td>50.6</td>\n",
       "      <td>1284</td>\n",
       "      <td>8</td>\n",
       "    </tr>\n",
       "    <tr>\n",
       "      <td>4</td>\n",
       "      <td>California</td>\n",
       "      <td>22.2</td>\n",
       "      <td>563</td>\n",
       "      <td>40</td>\n",
       "    </tr>\n",
       "  </tbody>\n",
       "</table>\n",
       "</div>"
      ],
      "text/plain": [
       "        State  Inches  Milli­metres  Rank\n",
       "0     Alabama    58.3          1480     4\n",
       "1      Alaska    22.5           572    39\n",
       "2     Arizona    13.6           345    47\n",
       "3    Arkansas    50.6          1284     8\n",
       "4  California    22.2           563    40"
      ]
     },
     "execution_count": 3,
     "metadata": {},
     "output_type": "execute_result"
    }
   ],
   "source": [
    "# Load in csv\n",
    "rain_df = pd.read_csv(\"../Resources/avg_rain_state.csv\")\n",
    "rain_df.head()"
   ]
  },
  {
   "cell_type": "code",
   "execution_count": 4,
   "metadata": {},
   "outputs": [],
   "source": [
    "# Set x axis and tick locations\n",
    "x_axis = np.arange(len(rain_df))\n",
    "tick_locations = [value+0.4 for value in x_axis]"
   ]
  },
  {
   "cell_type": "code",
   "execution_count": 5,
   "metadata": {},
   "outputs": [
    {
     "data": {
      "text/plain": [
       "([<matplotlib.axis.XTick at 0x11e97d210>,\n",
       "  <matplotlib.axis.XTick at 0x11e2c2910>,\n",
       "  <matplotlib.axis.XTick at 0x10d591450>,\n",
       "  <matplotlib.axis.XTick at 0x11ea4e150>,\n",
       "  <matplotlib.axis.XTick at 0x11ea4e610>,\n",
       "  <matplotlib.axis.XTick at 0x11ea4e490>,\n",
       "  <matplotlib.axis.XTick at 0x11ea4e5d0>,\n",
       "  <matplotlib.axis.XTick at 0x11ea574d0>,\n",
       "  <matplotlib.axis.XTick at 0x11ea57310>,\n",
       "  <matplotlib.axis.XTick at 0x11ea5e1d0>,\n",
       "  <matplotlib.axis.XTick at 0x11ea5e790>,\n",
       "  <matplotlib.axis.XTick at 0x11ea5e650>,\n",
       "  <matplotlib.axis.XTick at 0x11ea63450>,\n",
       "  <matplotlib.axis.XTick at 0x11ea63290>,\n",
       "  <matplotlib.axis.XTick at 0x11ea6b1d0>,\n",
       "  <matplotlib.axis.XTick at 0x11ea5ed90>,\n",
       "  <matplotlib.axis.XTick at 0x11ea5e510>,\n",
       "  <matplotlib.axis.XTick at 0x11ea6b6d0>,\n",
       "  <matplotlib.axis.XTick at 0x11ea6b690>,\n",
       "  <matplotlib.axis.XTick at 0x11ea72310>,\n",
       "  <matplotlib.axis.XTick at 0x11ea72210>,\n",
       "  <matplotlib.axis.XTick at 0x11ea72f10>,\n",
       "  <matplotlib.axis.XTick at 0x11ea78610>,\n",
       "  <matplotlib.axis.XTick at 0x11ea78450>,\n",
       "  <matplotlib.axis.XTick at 0x11ea78410>,\n",
       "  <matplotlib.axis.XTick at 0x11ea729d0>,\n",
       "  <matplotlib.axis.XTick at 0x11ea80210>,\n",
       "  <matplotlib.axis.XTick at 0x11ea80990>,\n",
       "  <matplotlib.axis.XTick at 0x11ea80d10>,\n",
       "  <matplotlib.axis.XTick at 0x11ea87650>,\n",
       "  <matplotlib.axis.XTick at 0x11ea87490>,\n",
       "  <matplotlib.axis.XTick at 0x11ea8d310>,\n",
       "  <matplotlib.axis.XTick at 0x11ea8d210>,\n",
       "  <matplotlib.axis.XTick at 0x11ea8df10>,\n",
       "  <matplotlib.axis.XTick at 0x11ea8ddd0>,\n",
       "  <matplotlib.axis.XTick at 0x11ea80950>,\n",
       "  <matplotlib.axis.XTick at 0x11ea94510>,\n",
       "  <matplotlib.axis.XTick at 0x11ea94050>,\n",
       "  <matplotlib.axis.XTick at 0x11ea9c1d0>,\n",
       "  <matplotlib.axis.XTick at 0x11ea9c810>,\n",
       "  <matplotlib.axis.XTick at 0x11ea9c650>,\n",
       "  <matplotlib.axis.XTick at 0x11eaa14d0>,\n",
       "  <matplotlib.axis.XTick at 0x11eaa1310>,\n",
       "  <matplotlib.axis.XTick at 0x11eaa1390>,\n",
       "  <matplotlib.axis.XTick at 0x11ea9c390>,\n",
       "  <matplotlib.axis.XTick at 0x11ea80610>,\n",
       "  <matplotlib.axis.XTick at 0x11eaa9750>,\n",
       "  <matplotlib.axis.XTick at 0x11eaa9590>,\n",
       "  <matplotlib.axis.XTick at 0x11eaae410>,\n",
       "  <matplotlib.axis.XTick at 0x11eaae250>],\n",
       " <a list of 50 Text xticklabel objects>)"
      ]
     },
     "execution_count": 5,
     "metadata": {},
     "output_type": "execute_result"
    },
    {
     "data": {
      "image/png": "[encoded data removed]",
      "text/plain": [
       "<Figure size 1440x216 with 1 Axes>"
      ]
     },
     "metadata": {
      "needs_background": "light"
     },
     "output_type": "display_data"
    }
   ],
   "source": [
    "# Create a list indicating where to write x labels and set figure size to adjust for space\n",
    "plt.figure(figsize=(20,3))\n",
    "plt.bar(x_axis, rain_df[\"Inches\"], color='r', alpha=0.5, align=\"edge\")\n",
    "plt.xticks(tick_locations, rain_df[\"State\"], rotation=\"vertical\")"
   ]
  },
  {
   "cell_type": "code",
   "execution_count": 6,
   "metadata": {},
   "outputs": [
    {
     "data": {
      "text/plain": [
       "(0, 73.7)"
      ]
     },
     "execution_count": 6,
     "metadata": {},
     "output_type": "execute_result"
    },
    {
     "data": {
      "image/png": "[encoded data removed]",
      "text/plain": [
       "<Figure size 432x288 with 1 Axes>"
      ]
     },
     "metadata": {
      "needs_background": "light"
     },
     "output_type": "display_data"
    }
   ],
   "source": [
    "# Set x and y limits\n",
    "plt.xlim(-0.25, len(x_axis))\n",
    "plt.ylim(0, max(rain_df[\"Inches\"])+10)"
   ]
  },
  {
   "cell_type": "code",
   "execution_count": 7,
   "metadata": {},
   "outputs": [
    {
     "data": {
      "text/plain": [
       "Text(0, 0.5, 'Average Amount of Rainfall in Inches')"
      ]
     },
     "execution_count": 7,
     "metadata": {},
     "output_type": "execute_result"
    },
    {
     "data": {
      "image/png": "[encoded data removed]",
      "text/plain": [
       "<Figure size 432x288 with 1 Axes>"
      ]
     },
     "metadata": {
      "needs_background": "light"
     },
     "output_type": "display_data"
    }
   ],
   "source": [
    "# Set a Title and labels\n",
    "plt.title(\"Average Rain per State\")\n",
    "plt.xlabel(\"State\")\n",
    "plt.ylabel(\"Average Amount of Rainfall in Inches\")"
   ]
  },
  {
   "cell_type": "code",
   "execution_count": 9,
   "metadata": {},
   "outputs": [
    {
     "data": {
      "text/plain": [
       "<Figure size 432x288 with 0 Axes>"
      ]
     },
     "metadata": {},
     "output_type": "display_data"
    }
   ],
   "source": [
    "# Save our graph and show the grap\n",
    "plt.tight_layout()\n",
    "plt.savefig(\"../Images/avg_state_rain.png\")\n",
    "plt.show()"
   ]
  },
  {
   "cell_type": "code",
   "execution_count": null,
   "metadata": {},
   "outputs": [],
   "source": []
  }
 ],
 "metadata": {
  "kernel_info": {
   "name": "python3"
  },
  "kernelspec": {
   "display_name": "Python 3",
   "language": "python",
   "name": "python3"
  },
  "language_info": {
   "codemirror_mode": {
    "name": "ipython",
    "version": 3
   },
   "file_extension": ".py",
   "mimetype": "text/x-python",
   "name": "python",
   "nbconvert_exporter": "python",
   "pygments_lexer": "ipython3",
   "version": "3.7.4"
  },
  "nteract": {
   "version": "0.2.0"
  }
 },
 "nbformat": 4,
 "nbformat_minor": 2
}
